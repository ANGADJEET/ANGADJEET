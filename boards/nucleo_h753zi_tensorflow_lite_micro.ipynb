{
  "cells": [
    {
      "cell_type": "markdown",
      "id": "653492a7",
      "metadata": {
        "cell_marker": "\"\"\"",
        "id": "653492a7"
      },
      "source": [
        "[![Renode](https://dl.antmicro.com/projects/renode/renode.svg)](https://renode.io)\n",
        "\n",
        "[![Run in Google Colab](https://img.shields.io/badge/-Run%20in%20Google%20colab-%23007ded?logo=google-colab&logoColor=white&style=for-the-badge)](https://colab.research.google.com/github/antmicro/test-colabs/blob/main/boards/nucleo_h753zi_tensorflow_lite_micro.ipynb) [![View ipynb](https://img.shields.io/badge/-View%20ipynb%20source-%23007ded?logo=jupyter&logoColor=white&style=for-the-badge)](https://github.com/antmicro/test-colabs/blob/main/boards/nucleo_h753zi_tensorflow_lite_micro.ipynb) [![View Python source](https://img.shields.io/badge/-View%20Python%20source-%23007ded?logo=python&logoColor=white&style=for-the-badge)](https://github.com/antmicro/test-colabs/blob/main/boards/nucleo_h753zi_tensorflow_lite_micro.py)"
      ]
    },
    {
      "cell_type": "markdown",
      "id": "21a64cdf",
      "metadata": {
        "cell_marker": "\"\"\"",
        "id": "21a64cdf"
      },
      "source": [
        "## Install requirements"
      ]
    },
    {
      "cell_type": "code",
      "execution_count": 1,
      "id": "ff2fd64e",
      "metadata": {
        "colab": {
          "base_uri": "https://localhost:8080/"
        },
        "id": "ff2fd64e",
        "outputId": "6ae7386d-a555-4f32-c33b-a8d1ce404f3a"
      },
      "outputs": [
        {
          "output_type": "stream",
          "name": "stdout",
          "text": [
            "  Preparing metadata (setup.py) ... \u001b[?25l\u001b[?25hdone\n",
            "  Installing build dependencies ... \u001b[?25l\u001b[?25hdone\n",
            "  Getting requirements to build wheel ... \u001b[?25l\u001b[?25hdone\n",
            "  Preparing metadata (pyproject.toml) ... \u001b[?25l\u001b[?25hdone\n",
            "  Installing build dependencies ... \u001b[?25l\u001b[?25hdone\n",
            "  Getting requirements to build wheel ... \u001b[?25l\u001b[?25hdone\n",
            "  Preparing metadata (pyproject.toml) ... \u001b[?25l\u001b[?25hdone\n",
            "  Installing build dependencies ... \u001b[?25l\u001b[?25hdone\n",
            "  Getting requirements to build wheel ... \u001b[?25l\u001b[?25hdone\n",
            "  Preparing metadata (pyproject.toml) ... \u001b[?25l\u001b[?25hdone\n",
            "Downloading Renode (dotnet-portable)...\n",
            "Downloaded 72.52MB / 72.52MB (time elapsed: 0:00:00.759494)...\n",
            "Download finished!\n",
            "Renode is already present in /root/.config/renode/renode-run.download/dotnet-portable/renode-1.15.3+20250717gitf8a0feddf\n"
          ]
        }
      ],
      "source": [
        "! pip install -q git+https://github.com/antmicro/renode-colab-tools.git\n",
        "! pip install -q git+https://github.com/antmicro/renode-run.git\n",
        "! pip install -q git+https://github.com/antmicro/pyrenode3.git\n",
        "! renode-run download --renode-variant dotnet-portable"
      ]
    },
    {
      "cell_type": "markdown",
      "id": "12240585",
      "metadata": {
        "id": "12240585"
      },
      "source": [
        "## Start Renode"
      ]
    },
    {
      "cell_type": "code",
      "execution_count": 2,
      "id": "3b274085",
      "metadata": {
        "colab": {
          "base_uri": "https://localhost:8080/"
        },
        "id": "3b274085",
        "outputId": "60dcc65c-0417-404d-c275-5bb0a06269e6"
      },
      "outputs": [
        {
          "output_type": "stream",
          "name": "stdout",
          "text": [
            "Renode found in /root/.config/renode/renode-run.download/dotnet-portable/renode-1.15.3+20250717gitf8a0feddf/renode\n"
          ]
        }
      ],
      "source": [
        "import os\n",
        "from renode_run import get_default_renode_path\n",
        "from renode_run.utils import RenodeVariant\n",
        "\n",
        "os.environ['PYRENODE_RUNTIME'] = 'coreclr'\n",
        "os.environ['PYRENODE_BIN'] = get_default_renode_path(variant=RenodeVariant.DOTNET_PORTABLE)\n",
        "\n",
        "from pyrenode3.wrappers import Emulation, Monitor, TerminalTester, LEDTester\n",
        "from Antmicro.Renode.Peripherals.UART import UARTBackend\n",
        "from Antmicro.Renode.Analyzers import LoggingUartAnalyzer\n",
        "from System import String\n",
        "\n",
        "currentDirectory = os.getcwd()\n",
        "emulation = Emulation()\n",
        "monitor = Monitor()\n",
        "emulation.BackendManager.SetPreferredAnalyzer(UARTBackend, LoggingUartAnalyzer)"
      ]
    },
    {
      "cell_type": "markdown",
      "id": "2f8e0bb2",
      "metadata": {
        "id": "2f8e0bb2"
      },
      "source": [
        "## Setup a script"
      ]
    },
    {
      "cell_type": "code",
      "execution_count": 3,
      "id": "8cf086a9",
      "metadata": {
        "colab": {
          "base_uri": "https://localhost:8080/"
        },
        "id": "8cf086a9",
        "outputId": "03542caa-1c42-4d17-a727-b937ccf51790"
      },
      "outputs": [
        {
          "output_type": "stream",
          "name": "stdout",
          "text": [
            "Overwriting script.resc\n"
          ]
        }
      ],
      "source": [
        "%%writefile script.resc\n",
        "logFile $ORIGIN/sex123.log True\n",
        "\n",
        "$name?=\"nucleo_h753zi\"\n",
        "$bin?=$ORIGIN/NUCLEO_H753ZI.elf\n",
        "$repl?=$ORIGIN/nucleo_h753zi.repl\n",
        "\n",
        "using sysbus\n",
        "mach create $name\n",
        "\n",
        "machine LoadPlatformDescription $repl\n",
        "\n",
        "\n",
        "\n",
        "showAnalyzer usart3\n",
        "\n",
        "macro reset\n",
        "\"\"\"\n",
        "    sysbus LoadELF $bin\n",
        "\"\"\"\n",
        "\n",
        "runMacro $reset"
      ]
    },
    {
      "cell_type": "markdown",
      "id": "553fe678",
      "metadata": {
        "id": "553fe678"
      },
      "source": [
        "## Run the sample"
      ]
    },
    {
      "cell_type": "code",
      "execution_count": 4,
      "id": "84a72d24",
      "metadata": {
        "id": "84a72d24"
      },
      "outputs": [],
      "source": [
        "monitor.execute_script(currentDirectory + \"/script.resc\")\n",
        "machine = emulation.get_mach(\"nucleo_h753zi\")\n",
        "terminalTester = TerminalTester(machine.sysbus.usart3, 100)\n",
        "\n",
        "terminalTester.WaitFor(String('Running PerfTest on \\\"network\\\" with random inputs (16 iterations)...'), treatAsRegex=True, pauseEmulation=True)\n",
        "emulation.Dispose()"
      ]
    },
    {
      "cell_type": "markdown",
      "id": "d82e3fce",
      "metadata": {
        "id": "d82e3fce"
      },
      "source": [
        "## UART output"
      ]
    },
    {
      "cell_type": "code",
      "execution_count": 5,
      "id": "8eef632c",
      "metadata": {
        "colab": {
          "base_uri": "https://localhost:8080/",
          "height": 339
        },
        "id": "8eef632c",
        "outputId": "f8891ab4-2757-4b35-fdc2-15e8726ee106"
      },
      "outputs": [
        {
          "output_type": "error",
          "ename": "FileNotFoundError",
          "evalue": "[Errno 2] No such file or directory: 'tensorflow_lite_micro-asciinema'",
          "traceback": [
            "\u001b[0;31m---------------------------------------------------------------------------\u001b[0m",
            "\u001b[0;31mFileNotFoundError\u001b[0m                         Traceback (most recent call last)",
            "\u001b[0;32m/tmp/ipython-input-5-1733866419.py\u001b[0m in \u001b[0;36m<cell line: 0>\u001b[0;34m()\u001b[0m\n\u001b[1;32m      1\u001b[0m \u001b[0;32mfrom\u001b[0m \u001b[0mrenode_colab_tools\u001b[0m \u001b[0;32mimport\u001b[0m \u001b[0masciinema\u001b[0m\u001b[0;34m\u001b[0m\u001b[0;34m\u001b[0m\u001b[0m\n\u001b[0;32m----> 2\u001b[0;31m \u001b[0masciinema\u001b[0m\u001b[0;34m.\u001b[0m\u001b[0mdisplay_asciicast\u001b[0m\u001b[0;34m(\u001b[0m\u001b[0;34m'tensorflow_lite_micro-asciinema'\u001b[0m\u001b[0;34m)\u001b[0m\u001b[0;34m\u001b[0m\u001b[0;34m\u001b[0m\u001b[0m\n\u001b[0m",
            "\u001b[0;32m/usr/local/lib/python3.11/dist-packages/renode_colab_tools/asciinema.py\u001b[0m in \u001b[0;36mdisplay_asciicast\u001b[0;34m(path)\u001b[0m\n\u001b[1;32m     21\u001b[0m     \u001b[0;31m# the name is used to uniquely identify container divs\u001b[0m\u001b[0;34m\u001b[0m\u001b[0;34m\u001b[0m\u001b[0m\n\u001b[1;32m     22\u001b[0m     \u001b[0mname\u001b[0m \u001b[0;34m=\u001b[0m \u001b[0mPath\u001b[0m\u001b[0;34m(\u001b[0m\u001b[0mpath\u001b[0m\u001b[0;34m)\u001b[0m\u001b[0;34m.\u001b[0m\u001b[0mname\u001b[0m\u001b[0;34m\u001b[0m\u001b[0;34m\u001b[0m\u001b[0m\n\u001b[0;32m---> 23\u001b[0;31m     \u001b[0mtext\u001b[0m \u001b[0;34m=\u001b[0m \u001b[0mbase64\u001b[0m\u001b[0;34m.\u001b[0m\u001b[0mb64encode\u001b[0m\u001b[0;34m(\u001b[0m\u001b[0mPath\u001b[0m\u001b[0;34m(\u001b[0m\u001b[0mpath\u001b[0m\u001b[0;34m)\u001b[0m\u001b[0;34m.\u001b[0m\u001b[0mread_text\u001b[0m\u001b[0;34m(\u001b[0m\u001b[0;34m)\u001b[0m\u001b[0;34m.\u001b[0m\u001b[0mencode\u001b[0m\u001b[0;34m(\u001b[0m\u001b[0;34m'ascii'\u001b[0m\u001b[0;34m)\u001b[0m\u001b[0;34m)\u001b[0m\u001b[0;34m.\u001b[0m\u001b[0mdecode\u001b[0m\u001b[0;34m(\u001b[0m\u001b[0;34m'ascii'\u001b[0m\u001b[0;34m)\u001b[0m\u001b[0;34m\u001b[0m\u001b[0;34m\u001b[0m\u001b[0m\n\u001b[0m\u001b[1;32m     24\u001b[0m \u001b[0;34m\u001b[0m\u001b[0m\n\u001b[1;32m     25\u001b[0m     content = \"\"\"\n",
            "\u001b[0;32m/usr/lib/python3.11/pathlib.py\u001b[0m in \u001b[0;36mread_text\u001b[0;34m(self, encoding, errors)\u001b[0m\n\u001b[1;32m   1056\u001b[0m         \"\"\"\n\u001b[1;32m   1057\u001b[0m         \u001b[0mencoding\u001b[0m \u001b[0;34m=\u001b[0m \u001b[0mio\u001b[0m\u001b[0;34m.\u001b[0m\u001b[0mtext_encoding\u001b[0m\u001b[0;34m(\u001b[0m\u001b[0mencoding\u001b[0m\u001b[0;34m)\u001b[0m\u001b[0;34m\u001b[0m\u001b[0;34m\u001b[0m\u001b[0m\n\u001b[0;32m-> 1058\u001b[0;31m         \u001b[0;32mwith\u001b[0m \u001b[0mself\u001b[0m\u001b[0;34m.\u001b[0m\u001b[0mopen\u001b[0m\u001b[0;34m(\u001b[0m\u001b[0mmode\u001b[0m\u001b[0;34m=\u001b[0m\u001b[0;34m'r'\u001b[0m\u001b[0;34m,\u001b[0m \u001b[0mencoding\u001b[0m\u001b[0;34m=\u001b[0m\u001b[0mencoding\u001b[0m\u001b[0;34m,\u001b[0m \u001b[0merrors\u001b[0m\u001b[0;34m=\u001b[0m\u001b[0merrors\u001b[0m\u001b[0;34m)\u001b[0m \u001b[0;32mas\u001b[0m \u001b[0mf\u001b[0m\u001b[0;34m:\u001b[0m\u001b[0;34m\u001b[0m\u001b[0;34m\u001b[0m\u001b[0m\n\u001b[0m\u001b[1;32m   1059\u001b[0m             \u001b[0;32mreturn\u001b[0m \u001b[0mf\u001b[0m\u001b[0;34m.\u001b[0m\u001b[0mread\u001b[0m\u001b[0;34m(\u001b[0m\u001b[0;34m)\u001b[0m\u001b[0;34m\u001b[0m\u001b[0;34m\u001b[0m\u001b[0m\n\u001b[1;32m   1060\u001b[0m \u001b[0;34m\u001b[0m\u001b[0m\n",
            "\u001b[0;32m/usr/lib/python3.11/pathlib.py\u001b[0m in \u001b[0;36mopen\u001b[0;34m(self, mode, buffering, encoding, errors, newline)\u001b[0m\n\u001b[1;32m   1042\u001b[0m         \u001b[0;32mif\u001b[0m \u001b[0;34m\"b\"\u001b[0m \u001b[0;32mnot\u001b[0m \u001b[0;32min\u001b[0m \u001b[0mmode\u001b[0m\u001b[0;34m:\u001b[0m\u001b[0;34m\u001b[0m\u001b[0;34m\u001b[0m\u001b[0m\n\u001b[1;32m   1043\u001b[0m             \u001b[0mencoding\u001b[0m \u001b[0;34m=\u001b[0m \u001b[0mio\u001b[0m\u001b[0;34m.\u001b[0m\u001b[0mtext_encoding\u001b[0m\u001b[0;34m(\u001b[0m\u001b[0mencoding\u001b[0m\u001b[0;34m)\u001b[0m\u001b[0;34m\u001b[0m\u001b[0;34m\u001b[0m\u001b[0m\n\u001b[0;32m-> 1044\u001b[0;31m         \u001b[0;32mreturn\u001b[0m \u001b[0mio\u001b[0m\u001b[0;34m.\u001b[0m\u001b[0mopen\u001b[0m\u001b[0;34m(\u001b[0m\u001b[0mself\u001b[0m\u001b[0;34m,\u001b[0m \u001b[0mmode\u001b[0m\u001b[0;34m,\u001b[0m \u001b[0mbuffering\u001b[0m\u001b[0;34m,\u001b[0m \u001b[0mencoding\u001b[0m\u001b[0;34m,\u001b[0m \u001b[0merrors\u001b[0m\u001b[0;34m,\u001b[0m \u001b[0mnewline\u001b[0m\u001b[0;34m)\u001b[0m\u001b[0;34m\u001b[0m\u001b[0;34m\u001b[0m\u001b[0m\n\u001b[0m\u001b[1;32m   1045\u001b[0m \u001b[0;34m\u001b[0m\u001b[0m\n\u001b[1;32m   1046\u001b[0m     \u001b[0;32mdef\u001b[0m \u001b[0mread_bytes\u001b[0m\u001b[0;34m(\u001b[0m\u001b[0mself\u001b[0m\u001b[0;34m)\u001b[0m\u001b[0;34m:\u001b[0m\u001b[0;34m\u001b[0m\u001b[0;34m\u001b[0m\u001b[0m\n",
            "\u001b[0;31mFileNotFoundError\u001b[0m: [Errno 2] No such file or directory: 'tensorflow_lite_micro-asciinema'"
          ]
        }
      ],
      "source": [
        "from renode_colab_tools import asciinema\n",
        "asciinema.display_asciicast('tensorflow_lite_micro-asciinema')"
      ]
    },
    {
      "cell_type": "markdown",
      "id": "d700e108",
      "metadata": {
        "id": "d700e108"
      },
      "source": [
        "## Renode metrics analysis"
      ]
    },
    {
      "cell_type": "code",
      "execution_count": null,
      "id": "eb3fbafd",
      "metadata": {
        "id": "eb3fbafd"
      },
      "outputs": [],
      "source": [
        "import sys\n",
        "from pathlib import Path\n",
        "from renode_run import get_default_renode_path\n",
        "sys.path.append(str(Path(get_default_renode_path()).parent))\n",
        "\n",
        "from renode_colab_tools import metrics\n",
        "from tools.metrics_analyzer.metrics_parser import MetricsParser\n",
        "metrics.init_notebook_mode(connected=False)\n",
        "parser = MetricsParser('metrics.dump')\n",
        "\n",
        "\n",
        "metrics.display_metrics(parser)"
      ]
    }
  ],
  "metadata": {
    "jupytext": {
      "cell_metadata_filter": "-all",
      "main_language": "python",
      "notebook_metadata_filter": "-all"
    },
    "kernelspec": {
      "display_name": "Python 3",
      "name": "python3"
    },
    "language_info": {
      "name": "python"
    },
    "colab": {
      "provenance": []
    }
  },
  "nbformat": 4,
  "nbformat_minor": 5
}