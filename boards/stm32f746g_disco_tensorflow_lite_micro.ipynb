{
  "cells": [
    {
      "cell_type": "markdown",
      "id": "f5933209",
      "metadata": {
        "cell_marker": "\"\"\"",
        "id": "f5933209"
      },
      "source": [
        "[![Renode](https://dl.antmicro.com/projects/renode/renode.svg)](https://renode.io)\n",
        "\n",
        "[![Run in Google Colab](https://img.shields.io/badge/-Run%20in%20Google%20colab-%23007ded?logo=google-colab&logoColor=white&style=for-the-badge)](https://colab.research.google.com/github/antmicro/test-colabs/blob/main/boards/stm32f746g_disco_tensorflow_lite_micro.ipynb) [![View ipynb](https://img.shields.io/badge/-View%20ipynb%20source-%23007ded?logo=jupyter&logoColor=white&style=for-the-badge)](https://github.com/antmicro/test-colabs/blob/main/boards/stm32f746g_disco_tensorflow_lite_micro.ipynb) [![View Python source](https://img.shields.io/badge/-View%20Python%20source-%23007ded?logo=python&logoColor=white&style=for-the-badge)](https://github.com/antmicro/test-colabs/blob/main/boards/stm32f746g_disco_tensorflow_lite_micro.py)"
      ]
    },
    {
      "cell_type": "markdown",
      "id": "047f7bc4",
      "metadata": {
        "cell_marker": "\"\"\"",
        "id": "047f7bc4"
      },
      "source": [
        "## Install requirements"
      ]
    },
    {
      "cell_type": "code",
      "execution_count": 1,
      "id": "ec92ecea",
      "metadata": {
        "colab": {
          "base_uri": "https://localhost:8080/"
        },
        "id": "ec92ecea",
        "outputId": "6203db39-1a3d-4d92-8985-4d5bb27c28f4"
      },
      "outputs": [
        {
          "output_type": "stream",
          "name": "stdout",
          "text": [
            "  Preparing metadata (setup.py) ... \u001b[?25l\u001b[?25hdone\n",
            "  Installing build dependencies ... \u001b[?25l\u001b[?25hdone\n",
            "  Getting requirements to build wheel ... \u001b[?25l\u001b[?25hdone\n",
            "  Preparing metadata (pyproject.toml) ... \u001b[?25l\u001b[?25hdone\n",
            "  Installing build dependencies ... \u001b[?25l\u001b[?25hdone\n",
            "  Getting requirements to build wheel ... \u001b[?25l\u001b[?25hdone\n",
            "  Preparing metadata (pyproject.toml) ... \u001b[?25l\u001b[?25hdone\n",
            "  Installing build dependencies ... \u001b[?25l\u001b[?25hdone\n",
            "  Getting requirements to build wheel ... \u001b[?25l\u001b[?25hdone\n",
            "  Preparing metadata (pyproject.toml) ... \u001b[?25l\u001b[?25hdone\n",
            "Downloading Renode (dotnet-portable)...\n",
            "Downloaded 72.52MB / 72.52MB (time elapsed: 0:00:05.921211)...\n",
            "Download finished!\n",
            "Renode is already present in /root/.config/renode/renode-run.download/dotnet-portable/renode-1.15.3+20250717gitf8a0feddf\n"
          ]
        }
      ],
      "source": [
        "! pip install -q git+https://github.com/antmicro/renode-colab-tools.git\n",
        "! pip install -q git+https://github.com/antmicro/renode-run.git\n",
        "! pip install -q git+https://github.com/antmicro/pyrenode3.git\n",
        "! renode-run download --renode-variant dotnet-portable"
      ]
    },
    {
      "cell_type": "markdown",
      "id": "65813ef4",
      "metadata": {
        "id": "65813ef4"
      },
      "source": [
        "## Start Renode"
      ]
    },
    {
      "cell_type": "code",
      "execution_count": 2,
      "id": "5599db8c",
      "metadata": {
        "colab": {
          "base_uri": "https://localhost:8080/"
        },
        "id": "5599db8c",
        "outputId": "0d3f4f9b-964f-4e0e-daed-3a7357eec822"
      },
      "outputs": [
        {
          "output_type": "stream",
          "name": "stdout",
          "text": [
            "Renode found in /root/.config/renode/renode-run.download/dotnet-portable/renode-1.15.3+20250717gitf8a0feddf/renode\n"
          ]
        }
      ],
      "source": [
        "import os\n",
        "from renode_run import get_default_renode_path\n",
        "from renode_run.utils import RenodeVariant\n",
        "\n",
        "os.environ['PYRENODE_RUNTIME'] = 'coreclr'\n",
        "os.environ['PYRENODE_BIN'] = get_default_renode_path(variant=RenodeVariant.DOTNET_PORTABLE)\n",
        "\n",
        "from pyrenode3.wrappers import Emulation, Monitor, TerminalTester, LEDTester\n",
        "from Antmicro.Renode.Peripherals.UART import UARTBackend\n",
        "from Antmicro.Renode.Analyzers import LoggingUartAnalyzer\n",
        "from System import String\n",
        "\n",
        "currentDirectory = os.getcwd()\n",
        "emulation = Emulation()\n",
        "monitor = Monitor()\n",
        "emulation.BackendManager.SetPreferredAnalyzer(UARTBackend, LoggingUartAnalyzer)"
      ]
    },
    {
      "cell_type": "markdown",
      "id": "3745bfc3",
      "metadata": {
        "id": "3745bfc3"
      },
      "source": [
        "## Setup a script"
      ]
    },
    {
      "cell_type": "code",
      "execution_count": 3,
      "id": "eaeeeec2",
      "metadata": {
        "colab": {
          "base_uri": "https://localhost:8080/"
        },
        "id": "eaeeeec2",
        "outputId": "0764ef07-6277-4cf3-9d5e-f6690a054e4a"
      },
      "outputs": [
        {
          "output_type": "stream",
          "name": "stdout",
          "text": [
            "Overwriting script.resc\n"
          ]
        }
      ],
      "source": [
        "%%writefile script.resc\n",
        "logFile $ORIGIN/tensorflow.log True\n",
        "\n",
        "$name?=\"stm32f746g_disco\"\n",
        "$bin?=$ORIGIN/STM32F746G_DISCO.elf\n",
        "$repl?=$ORIGIN/tensorflow_lite.repl\n",
        "\n",
        "using sysbus\n",
        "mach create $name\n",
        "\n",
        "machine LoadPlatformDescription $repl\n",
        "\n",
        "\n",
        "showAnalyzer usart1\n",
        "\n",
        "\"\"\"\n",
        "    sysbus LoadELF $bin\n",
        "    cpu0 VectorTableOffset 0x08000000UL\n",
        "\"\"\"\n",
        "\n",
        "runMacro $reset"
      ]
    },
    {
      "cell_type": "markdown",
      "id": "2b3f2545",
      "metadata": {
        "id": "2b3f2545"
      },
      "source": [
        "## Run the sample"
      ]
    },
    {
      "cell_type": "code",
      "execution_count": 4,
      "id": "4659362f",
      "metadata": {
        "id": "4659362f"
      },
      "outputs": [],
      "source": [
        "monitor.execute_script(currentDirectory + \"/script.resc\")\n",
        "machine = emulation.get_mach(\"stm32f746g_disco\")\n",
        "terminalTester = TerminalTester(machine.sysbus.usart1, 15)\n",
        "\n",
        "terminalTester.WaitFor(String(\"Running PerfTest on \\\"network\\\" with random inputs (16 iterations)...\"), treatAsRegex=True, pauseEmulation=True)\n",
        "\n",
        "emulation.Dispose()"
      ]
    }
  ],
  "metadata": {
    "jupytext": {
      "cell_metadata_filter": "-all"
    },
    "kernelspec": {
      "display_name": "Python 3",
      "name": "python3"
    },
    "colab": {
      "provenance": []
    }
  },
  "nbformat": 4,
  "nbformat_minor": 5
}