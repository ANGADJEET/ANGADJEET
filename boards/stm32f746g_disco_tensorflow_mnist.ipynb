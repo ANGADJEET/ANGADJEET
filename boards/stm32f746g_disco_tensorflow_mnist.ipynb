{
  "cells": [
    {
      "cell_type": "markdown",
      "id": "f5933209",
      "metadata": {
        "cell_marker": "\"\"\"",
        "id": "f5933209"
      },
      "source": [
        "[![Renode](https://dl.antmicro.com/projects/renode/renode.svg)](https://renode.io)\n",
        "\n",
        "[![Run in Google Colab](https://img.shields.io/badge/-Run%20in%20Google%20colab-%23007ded?logo=google-colab&logoColor=white&style=for-the-badge)](https://colab.research.google.com/github/antmicro/test-colabs/blob/main/boards/stm32f746g_disco_tensorflow_lite_micro.ipynb) [![View ipynb](https://img.shields.io/badge/-View%20ipynb%20source-%23007ded?logo=jupyter&logoColor=white&style=for-the-badge)](https://github.com/antmicro/test-colabs/blob/main/boards/stm32f746g_disco_tensorflow_lite_micro.ipynb) [![View Python source](https://img.shields.io/badge/-View%20Python%20source-%23007ded?logo=python&logoColor=white&style=for-the-badge)](https://github.com/antmicro/test-colabs/blob/main/boards/stm32f746g_disco_tensorflow_lite_micro.py)"
      ]
    },
    {
      "cell_type": "markdown",
      "id": "047f7bc4",
      "metadata": {
        "cell_marker": "\"\"\"",
        "id": "047f7bc4"
      },
      "source": [
        "## Install requirements"
      ]
    },
    {
      "cell_type": "code",
      "execution_count": null,
      "id": "ec92ecea",
      "metadata": {
        "id": "ec92ecea",
        "outputId": "f8143046-c52b-44ad-a789-9916cb3a07f5",
        "colab": {
          "base_uri": "https://localhost:8080/"
        }
      },
      "outputs": [
        {
          "output_type": "stream",
          "name": "stdout",
          "text": [
            "  Preparing metadata (setup.py) ... \u001b[?25l\u001b[?25hdone\n",
            "  Building wheel for renode_colab_tools (setup.py) ... \u001b[?25l\u001b[?25hdone\n",
            "  Installing build dependencies ... \u001b[?25l\u001b[?25hdone\n",
            "  Getting requirements to build wheel ... \u001b[?25l\u001b[?25hdone\n",
            "  Preparing metadata (pyproject.toml) ... \u001b[?25l\u001b[?25hdone\n",
            "  Installing build dependencies ... \u001b[?25l\u001b[?25hdone\n",
            "  Getting requirements to build wheel ... \u001b[?25l\u001b[?25hdone\n",
            "  Preparing metadata (pyproject.toml) ... \u001b[?25l\u001b[?25hdone\n",
            "\u001b[2K   \u001b[90m━━━━━━━━━━━━━━━━━━━━━━━━━━━━━━━━━━━━━━━━\u001b[0m \u001b[32m45.3/45.3 kB\u001b[0m \u001b[31m1.5 MB/s\u001b[0m eta \u001b[36m0:00:00\u001b[0m\n",
            "\u001b[2K   \u001b[90m━━━━━━━━━━━━━━━━━━━━━━━━━━━━━━━━━━━━━━━━\u001b[0m \u001b[32m98.2/98.2 kB\u001b[0m \u001b[31m2.9 MB/s\u001b[0m eta \u001b[36m0:00:00\u001b[0m\n",
            "\u001b[?25h  Building wheel for renode-run (pyproject.toml) ... \u001b[?25l\u001b[?25hdone\n",
            "  Building wheel for dts2repl (pyproject.toml) ... \u001b[?25l\u001b[?25hdone\n"
          ]
        }
      ],
      "source": [
        "! pip install -q git+https://github.com/antmicro/renode-colab-tools.git\n",
        "! pip install -q git+https://github.com/antmicro/renode-run.git\n",
        "! pip install -q git+https://github.com/antmicro/pyrenode3.git\n",
        "! renode-run download --renode-variant dotnet-portable"
      ]
    },
    {
      "cell_type": "markdown",
      "id": "65813ef4",
      "metadata": {
        "id": "65813ef4"
      },
      "source": [
        "## Start Renode"
      ]
    },
    {
      "cell_type": "code",
      "execution_count": null,
      "id": "5599db8c",
      "metadata": {
        "id": "5599db8c"
      },
      "outputs": [],
      "source": [
        "import os\n",
        "from renode_run import get_default_renode_path\n",
        "from renode_run.utils import RenodeVariant\n",
        "\n",
        "os.environ['PYRENODE_RUNTIME'] = 'coreclr'\n",
        "os.environ['PYRENODE_BIN'] = get_default_renode_path(variant=RenodeVariant.DOTNET_PORTABLE)\n",
        "\n",
        "from pyrenode3.wrappers import Emulation, Monitor, TerminalTester, LEDTester\n",
        "from Antmicro.Renode.Peripherals.UART import UARTBackend\n",
        "from Antmicro.Renode.Analyzers import LoggingUartAnalyzer\n",
        "from System import String\n",
        "\n",
        "currentDirectory = os.getcwd()\n",
        "emulation = Emulation()\n",
        "monitor = Monitor()\n",
        "emulation.BackendManager.SetPreferredAnalyzer(UARTBackend, LoggingUartAnalyzer)"
      ]
    },
    {
      "cell_type": "markdown",
      "id": "3745bfc3",
      "metadata": {
        "id": "3745bfc3"
      },
      "source": [
        "## Setup a script"
      ]
    },
    {
      "cell_type": "code",
      "execution_count": null,
      "id": "eaeeeec2",
      "metadata": {
        "id": "eaeeeec2"
      },
      "outputs": [],
      "source": [
        "%%writefile script.resc\n",
        "logFile $ORIGIN/tensorflow-renode.log True\n",
        "\n",
        "$name?=\"stm32f746g_disco\"\n",
        "$bin?=\"ORIGIN/STM32F746G-DISCO.elf\"\n",
        "$repl?=$ORIGIN/stm32f7.repl\n",
        "\n",
        "using sysbus\n",
        "mach create $name\n",
        "\n",
        "machine LoadPlatformDescription $repl\n",
        "\n",
        "\n",
        "showAnalyzer usart1\n",
        "\n",
        "usart1 RecordToAsciinema $ORIGIN/tensorflow-asciinema\n",
        "\n",
        "\n",
        "macro reset\n",
        "\"\"\"\n",
        "    sysbus LoadELF $bin\n",
        "    cpu0 VectorTableOffset `sysbus GetSymbolAddress \"_vector_table\"`\n",
        "    cpu0 EnableZephyrMode\n",
        "    cpu0 EnableProfilerCollapsedStack $ORIGIN/tensorflow_lite_micro-profile true 62914560 maximumNestedContexts=10\n",
        "\"\"\"\n",
        "\n",
        "runMacro $reset"
      ]
    },
    {
      "cell_type": "markdown",
      "id": "2b3f2545",
      "metadata": {
        "id": "2b3f2545"
      },
      "source": [
        "## Run the sample"
      ]
    },
    {
      "cell_type": "code",
      "execution_count": null,
      "id": "4659362f",
      "metadata": {
        "id": "4659362f"
      },
      "outputs": [],
      "source": [
        "monitor.execute_script(currentDirectory + \"/script.resc\")\n",
        "machine = emulation.get_mach(\"stm32f746g_disco\")\n",
        "terminalTester = TerminalTester(machine.sysbus.usart1, 15)\n",
        "\n",
        "terminalTester.WaitFor(String(\"Running PerfTest on \\\"network\\\" with random inputs (16 iterations)...\"), treatAsRegex=True, pauseEmulation=True)\n",
        "\n",
        "\n",
        "emulation.Dispose()"
      ]
    },
    {
      "cell_type": "markdown",
      "id": "bf66f9db",
      "metadata": {
        "id": "bf66f9db"
      },
      "source": [
        "## UART output"
      ]
    },
    {
      "cell_type": "code",
      "execution_count": null,
      "id": "383683f1",
      "metadata": {
        "id": "383683f1"
      },
      "outputs": [],
      "source": [
        "from renode_colab_tools import asciinema\n",
        "asciinema.display_asciicast('tensorflow-asciinema')"
      ]
    }
  ],
  "metadata": {
    "jupytext": {
      "cell_metadata_filter": "-all"
    },
    "kernelspec": {
      "display_name": "Python 3",
      "name": "python3"
    },
    "colab": {
      "provenance": []
    }
  },
  "nbformat": 4,
  "nbformat_minor": 5
}