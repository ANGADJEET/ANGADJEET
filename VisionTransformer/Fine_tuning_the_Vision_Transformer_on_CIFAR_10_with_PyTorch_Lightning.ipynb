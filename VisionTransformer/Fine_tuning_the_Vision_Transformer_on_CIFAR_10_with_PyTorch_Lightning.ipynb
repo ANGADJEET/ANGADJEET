{
  "nbformat": 4,
  "nbformat_minor": 0,
  "metadata": {
    "colab": {
      "provenance": [],
      "include_colab_link": true
    },
    "kernelspec": {
      "name": "python3",
      "display_name": "Python 3"
    },
    "language_info": {
      "name": "python"
    },
    "accelerator": "GPU",
    "widgets": {
      "application/vnd.jupyter.widget-state+json": {
        "10236f5444ed42c4aa42541c00d67ed8": {
          "model_module": "@jupyter-widgets/controls",
          "model_name": "HBoxModel",
          "model_module_version": "1.5.0",
          "state": {
            "_dom_classes": [],
            "_model_module": "@jupyter-widgets/controls",
            "_model_module_version": "1.5.0",
            "_model_name": "HBoxModel",
            "_view_count": null,
            "_view_module": "@jupyter-widgets/controls",
            "_view_module_version": "1.5.0",
            "_view_name": "HBoxView",
            "box_style": "",
            "children": [
              "IPY_MODEL_8d05f50ea96a496c94a339d9e672c69d",
              "IPY_MODEL_88ff1201030b4da0800404a98c45ea9d",
              "IPY_MODEL_1860141e22d5466091176737230b2446"
            ],
            "layout": "IPY_MODEL_ed6901a82b3948e7955eb70f6fb9cc7b"
          }
        },
        "8d05f50ea96a496c94a339d9e672c69d": {
          "model_module": "@jupyter-widgets/controls",
          "model_name": "HTMLModel",
          "model_module_version": "1.5.0",
          "state": {
            "_dom_classes": [],
            "_model_module": "@jupyter-widgets/controls",
            "_model_module_version": "1.5.0",
            "_model_name": "HTMLModel",
            "_view_count": null,
            "_view_module": "@jupyter-widgets/controls",
            "_view_module_version": "1.5.0",
            "_view_name": "HTMLView",
            "description": "",
            "description_tooltip": null,
            "layout": "IPY_MODEL_a54179d3b8474c888d79e6150b04fccc",
            "placeholder": "​",
            "style": "IPY_MODEL_f985a3080bec44abaae2700dda8fbe85",
            "value": "Downloading readme: "
          }
        },
        "88ff1201030b4da0800404a98c45ea9d": {
          "model_module": "@jupyter-widgets/controls",
          "model_name": "FloatProgressModel",
          "model_module_version": "1.5.0",
          "state": {
            "_dom_classes": [],
            "_model_module": "@jupyter-widgets/controls",
            "_model_module_version": "1.5.0",
            "_model_name": "FloatProgressModel",
            "_view_count": null,
            "_view_module": "@jupyter-widgets/controls",
            "_view_module_version": "1.5.0",
            "_view_name": "ProgressView",
            "bar_style": "success",
            "description": "",
            "description_tooltip": null,
            "layout": "IPY_MODEL_4be38fd981f34c4e87faee83c34f44ee",
            "max": 1,
            "min": 0,
            "orientation": "horizontal",
            "style": "IPY_MODEL_3ec536fb03bb420183dc092c80e5200a",
            "value": 1
          }
        },
        "1860141e22d5466091176737230b2446": {
          "model_module": "@jupyter-widgets/controls",
          "model_name": "HTMLModel",
          "model_module_version": "1.5.0",
          "state": {
            "_dom_classes": [],
            "_model_module": "@jupyter-widgets/controls",
            "_model_module_version": "1.5.0",
            "_model_name": "HTMLModel",
            "_view_count": null,
            "_view_module": "@jupyter-widgets/controls",
            "_view_module_version": "1.5.0",
            "_view_name": "HTMLView",
            "description": "",
            "description_tooltip": null,
            "layout": "IPY_MODEL_75231c5eb671470d8d5606211990cc5c",
            "placeholder": "​",
            "style": "IPY_MODEL_59f3c31d7e6a483fadcaf37bea6d60ef",
            "value": " 5.16k/? [00:00&lt;00:00, 118kB/s]"
          }
        },
        "ed6901a82b3948e7955eb70f6fb9cc7b": {
          "model_module": "@jupyter-widgets/base",
          "model_name": "LayoutModel",
          "model_module_version": "1.2.0",
          "state": {
            "_model_module": "@jupyter-widgets/base",
            "_model_module_version": "1.2.0",
            "_model_name": "LayoutModel",
            "_view_count": null,
            "_view_module": "@jupyter-widgets/base",
            "_view_module_version": "1.2.0",
            "_view_name": "LayoutView",
            "align_content": null,
            "align_items": null,
            "align_self": null,
            "border": null,
            "bottom": null,
            "display": null,
            "flex": null,
            "flex_flow": null,
            "grid_area": null,
            "grid_auto_columns": null,
            "grid_auto_flow": null,
            "grid_auto_rows": null,
            "grid_column": null,
            "grid_gap": null,
            "grid_row": null,
            "grid_template_areas": null,
            "grid_template_columns": null,
            "grid_template_rows": null,
            "height": null,
            "justify_content": null,
            "justify_items": null,
            "left": null,
            "margin": null,
            "max_height": null,
            "max_width": null,
            "min_height": null,
            "min_width": null,
            "object_fit": null,
            "object_position": null,
            "order": null,
            "overflow": null,
            "overflow_x": null,
            "overflow_y": null,
            "padding": null,
            "right": null,
            "top": null,
            "visibility": null,
            "width": null
          }
        },
        "a54179d3b8474c888d79e6150b04fccc": {
          "model_module": "@jupyter-widgets/base",
          "model_name": "LayoutModel",
          "model_module_version": "1.2.0",
          "state": {
            "_model_module": "@jupyter-widgets/base",
            "_model_module_version": "1.2.0",
            "_model_name": "LayoutModel",
            "_view_count": null,
            "_view_module": "@jupyter-widgets/base",
            "_view_module_version": "1.2.0",
            "_view_name": "LayoutView",
            "align_content": null,
            "align_items": null,
            "align_self": null,
            "border": null,
            "bottom": null,
            "display": null,
            "flex": null,
            "flex_flow": null,
            "grid_area": null,
            "grid_auto_columns": null,
            "grid_auto_flow": null,
            "grid_auto_rows": null,
            "grid_column": null,
            "grid_gap": null,
            "grid_row": null,
            "grid_template_areas": null,
            "grid_template_columns": null,
            "grid_template_rows": null,
            "height": null,
            "justify_content": null,
            "justify_items": null,
            "left": null,
            "margin": null,
            "max_height": null,
            "max_width": null,
            "min_height": null,
            "min_width": null,
            "object_fit": null,
            "object_position": null,
            "order": null,
            "overflow": null,
            "overflow_x": null,
            "overflow_y": null,
            "padding": null,
            "right": null,
            "top": null,
            "visibility": null,
            "width": null
          }
        },
        "f985a3080bec44abaae2700dda8fbe85": {
          "model_module": "@jupyter-widgets/controls",
          "model_name": "DescriptionStyleModel",
          "model_module_version": "1.5.0",
          "state": {
            "_model_module": "@jupyter-widgets/controls",
            "_model_module_version": "1.5.0",
            "_model_name": "DescriptionStyleModel",
            "_view_count": null,
            "_view_module": "@jupyter-widgets/base",
            "_view_module_version": "1.2.0",
            "_view_name": "StyleView",
            "description_width": ""
          }
        },
        "4be38fd981f34c4e87faee83c34f44ee": {
          "model_module": "@jupyter-widgets/base",
          "model_name": "LayoutModel",
          "model_module_version": "1.2.0",
          "state": {
            "_model_module": "@jupyter-widgets/base",
            "_model_module_version": "1.2.0",
            "_model_name": "LayoutModel",
            "_view_count": null,
            "_view_module": "@jupyter-widgets/base",
            "_view_module_version": "1.2.0",
            "_view_name": "LayoutView",
            "align_content": null,
            "align_items": null,
            "align_self": null,
            "border": null,
            "bottom": null,
            "display": null,
            "flex": null,
            "flex_flow": null,
            "grid_area": null,
            "grid_auto_columns": null,
            "grid_auto_flow": null,
            "grid_auto_rows": null,
            "grid_column": null,
            "grid_gap": null,
            "grid_row": null,
            "grid_template_areas": null,
            "grid_template_columns": null,
            "grid_template_rows": null,
            "height": null,
            "justify_content": null,
            "justify_items": null,
            "left": null,
            "margin": null,
            "max_height": null,
            "max_width": null,
            "min_height": null,
            "min_width": null,
            "object_fit": null,
            "object_position": null,
            "order": null,
            "overflow": null,
            "overflow_x": null,
            "overflow_y": null,
            "padding": null,
            "right": null,
            "top": null,
            "visibility": null,
            "width": "20px"
          }
        },
        "3ec536fb03bb420183dc092c80e5200a": {
          "model_module": "@jupyter-widgets/controls",
          "model_name": "ProgressStyleModel",
          "model_module_version": "1.5.0",
          "state": {
            "_model_module": "@jupyter-widgets/controls",
            "_model_module_version": "1.5.0",
            "_model_name": "ProgressStyleModel",
            "_view_count": null,
            "_view_module": "@jupyter-widgets/base",
            "_view_module_version": "1.2.0",
            "_view_name": "StyleView",
            "bar_color": null,
            "description_width": ""
          }
        },
        "75231c5eb671470d8d5606211990cc5c": {
          "model_module": "@jupyter-widgets/base",
          "model_name": "LayoutModel",
          "model_module_version": "1.2.0",
          "state": {
            "_model_module": "@jupyter-widgets/base",
            "_model_module_version": "1.2.0",
            "_model_name": "LayoutModel",
            "_view_count": null,
            "_view_module": "@jupyter-widgets/base",
            "_view_module_version": "1.2.0",
            "_view_name": "LayoutView",
            "align_content": null,
            "align_items": null,
            "align_self": null,
            "border": null,
            "bottom": null,
            "display": null,
            "flex": null,
            "flex_flow": null,
            "grid_area": null,
            "grid_auto_columns": null,
            "grid_auto_flow": null,
            "grid_auto_rows": null,
            "grid_column": null,
            "grid_gap": null,
            "grid_row": null,
            "grid_template_areas": null,
            "grid_template_columns": null,
            "grid_template_rows": null,
            "height": null,
            "justify_content": null,
            "justify_items": null,
            "left": null,
            "margin": null,
            "max_height": null,
            "max_width": null,
            "min_height": null,
            "min_width": null,
            "object_fit": null,
            "object_position": null,
            "order": null,
            "overflow": null,
            "overflow_x": null,
            "overflow_y": null,
            "padding": null,
            "right": null,
            "top": null,
            "visibility": null,
            "width": null
          }
        },
        "59f3c31d7e6a483fadcaf37bea6d60ef": {
          "model_module": "@jupyter-widgets/controls",
          "model_name": "DescriptionStyleModel",
          "model_module_version": "1.5.0",
          "state": {
            "_model_module": "@jupyter-widgets/controls",
            "_model_module_version": "1.5.0",
            "_model_name": "DescriptionStyleModel",
            "_view_count": null,
            "_view_module": "@jupyter-widgets/base",
            "_view_module_version": "1.2.0",
            "_view_name": "StyleView",
            "description_width": ""
          }
        }
      }
    }
  },
  "cells": [
    {
      "cell_type": "markdown",
      "metadata": {
        "id": "view-in-github",
        "colab_type": "text"
      },
      "source": [
        "<a href=\"https://colab.research.google.com/github/ANGADJEET/ANGADJEET/blob/main/VisionTransformer/Fine_tuning_the_Vision_Transformer_on_CIFAR_10_with_PyTorch_Lightning.ipynb\" target=\"_parent\"><img src=\"https://colab.research.google.com/assets/colab-badge.svg\" alt=\"Open In Colab\"/></a>"
      ]
    },
    {
      "cell_type": "markdown",
      "metadata": {
        "id": "szWwJmqPHZ-r"
      },
      "source": [
        "## Fine-tune the Vision Transformer on CIFAR-10\n",
        "\n",
        "In this notebook, we are going to fine-tune a pre-trained Vision Transformer (which I added to [🤗 Transformers](https://github.com/huggingface/transformers)) on the [CIFAR-10](https://www.cs.toronto.edu/~kriz/cifar.html) dataset. This dataset is a collection of 60,000 32x32 colour images in 10 classes, with 6000 images per class.\n",
        "\n",
        "We will prepare the data using [🤗 datasets](https://github.com/huggingface/datasets), and train the model using [PyTorch Lightning ⚡](https://github.com/PyTorchLightning/pytorch-lightning). Note that I also have a notbook that leverages the HuggingFace Trainer. You can find it in mmy repo [Transformers-Tutorials](https://github.com/NielsRogge/Transformers-Tutorials).\n",
        "\n",
        "### Quick intro: Vision Transformer (ViT) by Google Brain\n",
        "\n",
        "The Vision Transformer (ViT) is basically BERT, but applied to images. It attains excellent results compared to state-of-the-art convolutional networks. In order to provide images to the model, each image is split into a sequence of fixed-size patches (typically of resolution 16x16 or 32x32), which are linearly embedded. One also adds a [CLS] token at the beginning of the sequence in order to classify images. Next, one adds absolute position embeddings and provides this sequence to the Transformer encoder.\n",
        "\n",
        "![vit.png](data:image/png;base64,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)\n",
        "\n",
        "* Paper: https://arxiv.org/abs/2010.11929\n",
        "* Official repo (in JAX): https://github.com/google-research/vision_transformer\n"
      ]
    },
    {
      "cell_type": "markdown",
      "metadata": {
        "id": "3_7rNZfIf301"
      },
      "source": [
        "Let's start by installing the relevant libraries."
      ]
    },
    {
      "cell_type": "code",
      "metadata": {
        "id": "6MCTZFkFw6i6",
        "outputId": "46cb707d-0604-450d-f879-aef39da3e1b8",
        "colab": {
          "base_uri": "https://localhost:8080/"
        }
      },
      "source": [
        "!pip install -q transformers datasets pytorch-lightning"
      ],
      "execution_count": 1,
      "outputs": [
        {
          "output_type": "stream",
          "name": "stdout",
          "text": [
            "\u001b[2K   \u001b[90m━━━━━━━━━━━━━━━━━━━━━━━━━━━━━━━━━━━━━━━━\u001b[0m \u001b[32m825.4/825.4 kB\u001b[0m \u001b[31m19.4 MB/s\u001b[0m eta \u001b[36m0:00:00\u001b[0m\n",
            "\u001b[2K   \u001b[90m━━━━━━━━━━━━━━━━━━━━━━━━━━━━━━━━━━━━━━━━\u001b[0m \u001b[32m363.4/363.4 MB\u001b[0m \u001b[31m4.7 MB/s\u001b[0m eta \u001b[36m0:00:00\u001b[0m\n",
            "\u001b[2K   \u001b[90m━━━━━━━━━━━━━━━━━━━━━━━━━━━━━━━━━━━━━━━━\u001b[0m \u001b[32m13.8/13.8 MB\u001b[0m \u001b[31m41.8 MB/s\u001b[0m eta \u001b[36m0:00:00\u001b[0m\n",
            "\u001b[2K   \u001b[90m━━━━━━━━━━━━━━━━━━━━━━━━━━━━━━━━━━━━━━━━\u001b[0m \u001b[32m24.6/24.6 MB\u001b[0m \u001b[31m26.8 MB/s\u001b[0m eta \u001b[36m0:00:00\u001b[0m\n",
            "\u001b[2K   \u001b[90m━━━━━━━━━━━━━━━━━━━━━━━━━━━━━━━━━━━━━━━━\u001b[0m \u001b[32m883.7/883.7 kB\u001b[0m \u001b[31m32.9 MB/s\u001b[0m eta \u001b[36m0:00:00\u001b[0m\n",
            "\u001b[2K   \u001b[90m━━━━━━━━━━━━━━━━━━━━━━━━━━━━━━━━━━━━━━━━\u001b[0m \u001b[32m664.8/664.8 MB\u001b[0m \u001b[31m2.0 MB/s\u001b[0m eta \u001b[36m0:00:00\u001b[0m\n",
            "\u001b[2K   \u001b[90m━━━━━━━━━━━━━━━━━━━━━━━━━━━━━━━━━━━━━━━━\u001b[0m \u001b[32m211.5/211.5 MB\u001b[0m \u001b[31m7.1 MB/s\u001b[0m eta \u001b[36m0:00:00\u001b[0m\n",
            "\u001b[2K   \u001b[90m━━━━━━━━━━━━━━━━━━━━━━━━━━━━━━━━━━━━━━━━\u001b[0m \u001b[32m56.3/56.3 MB\u001b[0m \u001b[31m13.2 MB/s\u001b[0m eta \u001b[36m0:00:00\u001b[0m\n",
            "\u001b[2K   \u001b[90m━━━━━━━━━━━━━━━━━━━━━━━━━━━━━━━━━━━━━━━━\u001b[0m \u001b[32m127.9/127.9 MB\u001b[0m \u001b[31m8.1 MB/s\u001b[0m eta \u001b[36m0:00:00\u001b[0m\n",
            "\u001b[2K   \u001b[90m━━━━━━━━━━━━━━━━━━━━━━━━━━━━━━━━━━━━━━━━\u001b[0m \u001b[32m207.5/207.5 MB\u001b[0m \u001b[31m5.4 MB/s\u001b[0m eta \u001b[36m0:00:00\u001b[0m\n",
            "\u001b[2K   \u001b[90m━━━━━━━━━━━━━━━━━━━━━━━━━━━━━━━━━━━━━━━━\u001b[0m \u001b[32m21.1/21.1 MB\u001b[0m \u001b[31m21.4 MB/s\u001b[0m eta \u001b[36m0:00:00\u001b[0m\n",
            "\u001b[2K   \u001b[90m━━━━━━━━━━━━━━━━━━━━━━━━━━━━━━━━━━━━━━━━\u001b[0m \u001b[32m963.5/963.5 kB\u001b[0m \u001b[31m23.3 MB/s\u001b[0m eta \u001b[36m0:00:00\u001b[0m\n",
            "\u001b[?25h"
          ]
        }
      ]
    },
    {
      "cell_type": "markdown",
      "metadata": {
        "id": "AZXEXiozxB-4"
      },
      "source": [
        "## Load the data\n",
        "\n",
        "Here we import a small portion of CIFAR-10, for demonstration purposes. This dataset can be found on the [hub](https://huggingface.co/datasets/cifar10) (you can view images directly in your browser!)."
      ]
    },
    {
      "cell_type": "code",
      "metadata": {
        "colab": {
          "base_uri": "https://localhost:8080/",
          "height": 512,
          "referenced_widgets": [
            "10236f5444ed42c4aa42541c00d67ed8",
            "8d05f50ea96a496c94a339d9e672c69d",
            "88ff1201030b4da0800404a98c45ea9d",
            "1860141e22d5466091176737230b2446",
            "ed6901a82b3948e7955eb70f6fb9cc7b",
            "a54179d3b8474c888d79e6150b04fccc",
            "f985a3080bec44abaae2700dda8fbe85",
            "4be38fd981f34c4e87faee83c34f44ee",
            "3ec536fb03bb420183dc092c80e5200a",
            "75231c5eb671470d8d5606211990cc5c",
            "59f3c31d7e6a483fadcaf37bea6d60ef"
          ]
        },
        "id": "XC9HqG5u750_",
        "outputId": "abc337e3-d8b1-42ec-afb5-f283c9653873"
      },
      "source": [
        "from datasets import load_dataset\n",
        "\n",
        "# load cifar10 (only small portion for demonstration purposes)\n",
        "train_ds, test_ds = load_dataset('cifar10', split=['train[:5000]', 'test[:2000]'])\n",
        "# split up training into training + validation\n",
        "splits = train_ds.train_test_split(test_size=0.1)\n",
        "train_ds = splits['train']\n",
        "val_ds = splits['test']"
      ],
      "execution_count": 2,
      "outputs": [
        {
          "output_type": "stream",
          "name": "stderr",
          "text": [
            "/usr/local/lib/python3.11/dist-packages/huggingface_hub/utils/_auth.py:94: UserWarning: \n",
            "The secret `HF_TOKEN` does not exist in your Colab secrets.\n",
            "To authenticate with the Hugging Face Hub, create a token in your settings tab (https://huggingface.co/settings/tokens), set it as secret in your Google Colab and restart your session.\n",
            "You will be able to reuse this secret in all of your notebooks.\n",
            "Please note that authentication is recommended but still optional to access public models or datasets.\n",
            "  warnings.warn(\n"
          ]
        },
        {
          "output_type": "display_data",
          "data": {
            "text/plain": [
              "Downloading readme: 0.00B [00:00, ?B/s]"
            ],
            "application/vnd.jupyter.widget-view+json": {
              "version_major": 2,
              "version_minor": 0,
              "model_id": "10236f5444ed42c4aa42541c00d67ed8"
            }
          },
          "metadata": {}
        },
        {
          "output_type": "error",
          "ename": "ValueError",
          "evalue": "Invalid pattern: '**' can only be an entire path component",
          "traceback": [
            "\u001b[0;31m---------------------------------------------------------------------------\u001b[0m",
            "\u001b[0;31mValueError\u001b[0m                                Traceback (most recent call last)",
            "\u001b[0;32m/tmp/ipython-input-2-1633606423.py\u001b[0m in \u001b[0;36m<cell line: 0>\u001b[0;34m()\u001b[0m\n\u001b[1;32m      2\u001b[0m \u001b[0;34m\u001b[0m\u001b[0m\n\u001b[1;32m      3\u001b[0m \u001b[0;31m# load cifar10 (only small portion for demonstration purposes)\u001b[0m\u001b[0;34m\u001b[0m\u001b[0;34m\u001b[0m\u001b[0m\n\u001b[0;32m----> 4\u001b[0;31m \u001b[0mtrain_ds\u001b[0m\u001b[0;34m,\u001b[0m \u001b[0mtest_ds\u001b[0m \u001b[0;34m=\u001b[0m \u001b[0mload_dataset\u001b[0m\u001b[0;34m(\u001b[0m\u001b[0;34m'cifar10'\u001b[0m\u001b[0;34m,\u001b[0m \u001b[0msplit\u001b[0m\u001b[0;34m=\u001b[0m\u001b[0;34m[\u001b[0m\u001b[0;34m'train[:5000]'\u001b[0m\u001b[0;34m,\u001b[0m \u001b[0;34m'test[:2000]'\u001b[0m\u001b[0;34m]\u001b[0m\u001b[0;34m)\u001b[0m\u001b[0;34m\u001b[0m\u001b[0;34m\u001b[0m\u001b[0m\n\u001b[0m\u001b[1;32m      5\u001b[0m \u001b[0;31m# split up training into training + validation\u001b[0m\u001b[0;34m\u001b[0m\u001b[0;34m\u001b[0m\u001b[0m\n\u001b[1;32m      6\u001b[0m \u001b[0msplits\u001b[0m \u001b[0;34m=\u001b[0m \u001b[0mtrain_ds\u001b[0m\u001b[0;34m.\u001b[0m\u001b[0mtrain_test_split\u001b[0m\u001b[0;34m(\u001b[0m\u001b[0mtest_size\u001b[0m\u001b[0;34m=\u001b[0m\u001b[0;36m0.1\u001b[0m\u001b[0;34m)\u001b[0m\u001b[0;34m\u001b[0m\u001b[0;34m\u001b[0m\u001b[0m\n",
            "\u001b[0;32m/usr/local/lib/python3.11/dist-packages/datasets/load.py\u001b[0m in \u001b[0;36mload_dataset\u001b[0;34m(path, name, data_dir, data_files, split, cache_dir, features, download_config, download_mode, verification_mode, ignore_verifications, keep_in_memory, save_infos, revision, token, use_auth_token, task, streaming, num_proc, storage_options, **config_kwargs)\u001b[0m\n\u001b[1;32m   2110\u001b[0m \u001b[0;34m\u001b[0m\u001b[0m\n\u001b[1;32m   2111\u001b[0m     \u001b[0;31m# Create a dataset builder\u001b[0m\u001b[0;34m\u001b[0m\u001b[0;34m\u001b[0m\u001b[0m\n\u001b[0;32m-> 2112\u001b[0;31m     builder_instance = load_dataset_builder(\n\u001b[0m\u001b[1;32m   2113\u001b[0m         \u001b[0mpath\u001b[0m\u001b[0;34m=\u001b[0m\u001b[0mpath\u001b[0m\u001b[0;34m,\u001b[0m\u001b[0;34m\u001b[0m\u001b[0;34m\u001b[0m\u001b[0m\n\u001b[1;32m   2114\u001b[0m         \u001b[0mname\u001b[0m\u001b[0;34m=\u001b[0m\u001b[0mname\u001b[0m\u001b[0;34m,\u001b[0m\u001b[0;34m\u001b[0m\u001b[0;34m\u001b[0m\u001b[0m\n",
            "\u001b[0;32m/usr/local/lib/python3.11/dist-packages/datasets/load.py\u001b[0m in \u001b[0;36mload_dataset_builder\u001b[0;34m(path, name, data_dir, data_files, cache_dir, features, download_config, download_mode, revision, token, use_auth_token, storage_options, **config_kwargs)\u001b[0m\n\u001b[1;32m   1796\u001b[0m         \u001b[0mdownload_config\u001b[0m \u001b[0;34m=\u001b[0m \u001b[0mdownload_config\u001b[0m\u001b[0;34m.\u001b[0m\u001b[0mcopy\u001b[0m\u001b[0;34m(\u001b[0m\u001b[0;34m)\u001b[0m \u001b[0;32mif\u001b[0m \u001b[0mdownload_config\u001b[0m \u001b[0;32melse\u001b[0m \u001b[0mDownloadConfig\u001b[0m\u001b[0;34m(\u001b[0m\u001b[0;34m)\u001b[0m\u001b[0;34m\u001b[0m\u001b[0;34m\u001b[0m\u001b[0m\n\u001b[1;32m   1797\u001b[0m         \u001b[0mdownload_config\u001b[0m\u001b[0;34m.\u001b[0m\u001b[0mstorage_options\u001b[0m\u001b[0;34m.\u001b[0m\u001b[0mupdate\u001b[0m\u001b[0;34m(\u001b[0m\u001b[0mstorage_options\u001b[0m\u001b[0;34m)\u001b[0m\u001b[0;34m\u001b[0m\u001b[0;34m\u001b[0m\u001b[0m\n\u001b[0;32m-> 1798\u001b[0;31m     dataset_module = dataset_module_factory(\n\u001b[0m\u001b[1;32m   1799\u001b[0m         \u001b[0mpath\u001b[0m\u001b[0;34m,\u001b[0m\u001b[0;34m\u001b[0m\u001b[0;34m\u001b[0m\u001b[0m\n\u001b[1;32m   1800\u001b[0m         \u001b[0mrevision\u001b[0m\u001b[0;34m=\u001b[0m\u001b[0mrevision\u001b[0m\u001b[0;34m,\u001b[0m\u001b[0;34m\u001b[0m\u001b[0;34m\u001b[0m\u001b[0m\n",
            "\u001b[0;32m/usr/local/lib/python3.11/dist-packages/datasets/load.py\u001b[0m in \u001b[0;36mdataset_module_factory\u001b[0;34m(path, revision, download_config, download_mode, dynamic_modules_path, data_dir, data_files, **download_kwargs)\u001b[0m\n\u001b[1;32m   1493\u001b[0m                         \u001b[0;34mf\"Couldn't find '{path}' on the Hugging Face Hub either: {type(e1).__name__}: {e1}\"\u001b[0m\u001b[0;34m\u001b[0m\u001b[0;34m\u001b[0m\u001b[0m\n\u001b[1;32m   1494\u001b[0m                     ) from None\n\u001b[0;32m-> 1495\u001b[0;31m                 \u001b[0;32mraise\u001b[0m \u001b[0me1\u001b[0m \u001b[0;32mfrom\u001b[0m \u001b[0;32mNone\u001b[0m\u001b[0;34m\u001b[0m\u001b[0;34m\u001b[0m\u001b[0m\n\u001b[0m\u001b[1;32m   1496\u001b[0m     \u001b[0;32melse\u001b[0m\u001b[0;34m:\u001b[0m\u001b[0;34m\u001b[0m\u001b[0;34m\u001b[0m\u001b[0m\n\u001b[1;32m   1497\u001b[0m         raise FileNotFoundError(\n",
            "\u001b[0;32m/usr/local/lib/python3.11/dist-packages/datasets/load.py\u001b[0m in \u001b[0;36mdataset_module_factory\u001b[0;34m(path, revision, download_config, download_mode, dynamic_modules_path, data_dir, data_files, **download_kwargs)\u001b[0m\n\u001b[1;32m   1477\u001b[0m                     \u001b[0mdownload_config\u001b[0m\u001b[0;34m=\u001b[0m\u001b[0mdownload_config\u001b[0m\u001b[0;34m,\u001b[0m\u001b[0;34m\u001b[0m\u001b[0;34m\u001b[0m\u001b[0m\n\u001b[1;32m   1478\u001b[0m                     \u001b[0mdownload_mode\u001b[0m\u001b[0;34m=\u001b[0m\u001b[0mdownload_mode\u001b[0m\u001b[0;34m,\u001b[0m\u001b[0;34m\u001b[0m\u001b[0;34m\u001b[0m\u001b[0m\n\u001b[0;32m-> 1479\u001b[0;31m                 ).get_module()\n\u001b[0m\u001b[1;32m   1480\u001b[0m         except (\n\u001b[1;32m   1481\u001b[0m             \u001b[0mException\u001b[0m\u001b[0;34m\u001b[0m\u001b[0;34m\u001b[0m\u001b[0m\n",
            "\u001b[0;32m/usr/local/lib/python3.11/dist-packages/datasets/load.py\u001b[0m in \u001b[0;36mget_module\u001b[0;34m(self)\u001b[0m\n\u001b[1;32m   1032\u001b[0m             \u001b[0msanitize_patterns\u001b[0m\u001b[0;34m(\u001b[0m\u001b[0mself\u001b[0m\u001b[0;34m.\u001b[0m\u001b[0mdata_files\u001b[0m\u001b[0;34m)\u001b[0m\u001b[0;34m\u001b[0m\u001b[0;34m\u001b[0m\u001b[0m\n\u001b[1;32m   1033\u001b[0m             \u001b[0;32mif\u001b[0m \u001b[0mself\u001b[0m\u001b[0;34m.\u001b[0m\u001b[0mdata_files\u001b[0m \u001b[0;32mis\u001b[0m \u001b[0;32mnot\u001b[0m \u001b[0;32mNone\u001b[0m\u001b[0;34m\u001b[0m\u001b[0;34m\u001b[0m\u001b[0m\n\u001b[0;32m-> 1034\u001b[0;31m             \u001b[0;32melse\u001b[0m \u001b[0mget_data_patterns\u001b[0m\u001b[0;34m(\u001b[0m\u001b[0mbase_path\u001b[0m\u001b[0;34m,\u001b[0m \u001b[0mdownload_config\u001b[0m\u001b[0;34m=\u001b[0m\u001b[0mself\u001b[0m\u001b[0;34m.\u001b[0m\u001b[0mdownload_config\u001b[0m\u001b[0;34m)\u001b[0m\u001b[0;34m\u001b[0m\u001b[0;34m\u001b[0m\u001b[0m\n\u001b[0m\u001b[1;32m   1035\u001b[0m         )\n\u001b[1;32m   1036\u001b[0m         data_files = DataFilesDict.from_patterns(\n",
            "\u001b[0;32m/usr/local/lib/python3.11/dist-packages/datasets/data_files.py\u001b[0m in \u001b[0;36mget_data_patterns\u001b[0;34m(base_path, download_config)\u001b[0m\n\u001b[1;32m    455\u001b[0m     \u001b[0mresolver\u001b[0m \u001b[0;34m=\u001b[0m \u001b[0mpartial\u001b[0m\u001b[0;34m(\u001b[0m\u001b[0mresolve_pattern\u001b[0m\u001b[0;34m,\u001b[0m \u001b[0mbase_path\u001b[0m\u001b[0;34m=\u001b[0m\u001b[0mbase_path\u001b[0m\u001b[0;34m,\u001b[0m \u001b[0mdownload_config\u001b[0m\u001b[0;34m=\u001b[0m\u001b[0mdownload_config\u001b[0m\u001b[0;34m)\u001b[0m\u001b[0;34m\u001b[0m\u001b[0;34m\u001b[0m\u001b[0m\n\u001b[1;32m    456\u001b[0m     \u001b[0;32mtry\u001b[0m\u001b[0;34m:\u001b[0m\u001b[0;34m\u001b[0m\u001b[0;34m\u001b[0m\u001b[0m\n\u001b[0;32m--> 457\u001b[0;31m         \u001b[0;32mreturn\u001b[0m \u001b[0m_get_data_files_patterns\u001b[0m\u001b[0;34m(\u001b[0m\u001b[0mresolver\u001b[0m\u001b[0;34m)\u001b[0m\u001b[0;34m\u001b[0m\u001b[0;34m\u001b[0m\u001b[0m\n\u001b[0m\u001b[1;32m    458\u001b[0m     \u001b[0;32mexcept\u001b[0m \u001b[0mFileNotFoundError\u001b[0m\u001b[0;34m:\u001b[0m\u001b[0;34m\u001b[0m\u001b[0;34m\u001b[0m\u001b[0m\n\u001b[1;32m    459\u001b[0m         \u001b[0;32mraise\u001b[0m \u001b[0mEmptyDatasetError\u001b[0m\u001b[0;34m(\u001b[0m\u001b[0;34mf\"The directory at {base_path} doesn't contain any data files\"\u001b[0m\u001b[0;34m)\u001b[0m \u001b[0;32mfrom\u001b[0m \u001b[0;32mNone\u001b[0m\u001b[0;34m\u001b[0m\u001b[0;34m\u001b[0m\u001b[0m\n",
            "\u001b[0;32m/usr/local/lib/python3.11/dist-packages/datasets/data_files.py\u001b[0m in \u001b[0;36m_get_data_files_patterns\u001b[0;34m(pattern_resolver)\u001b[0m\n\u001b[1;32m    246\u001b[0m             \u001b[0;32mfor\u001b[0m \u001b[0mpattern\u001b[0m \u001b[0;32min\u001b[0m \u001b[0mpatterns\u001b[0m\u001b[0;34m:\u001b[0m\u001b[0;34m\u001b[0m\u001b[0;34m\u001b[0m\u001b[0m\n\u001b[1;32m    247\u001b[0m                 \u001b[0;32mtry\u001b[0m\u001b[0;34m:\u001b[0m\u001b[0;34m\u001b[0m\u001b[0;34m\u001b[0m\u001b[0m\n\u001b[0;32m--> 248\u001b[0;31m                     \u001b[0mdata_files\u001b[0m \u001b[0;34m=\u001b[0m \u001b[0mpattern_resolver\u001b[0m\u001b[0;34m(\u001b[0m\u001b[0mpattern\u001b[0m\u001b[0;34m)\u001b[0m\u001b[0;34m\u001b[0m\u001b[0;34m\u001b[0m\u001b[0m\n\u001b[0m\u001b[1;32m    249\u001b[0m                 \u001b[0;32mexcept\u001b[0m \u001b[0mFileNotFoundError\u001b[0m\u001b[0;34m:\u001b[0m\u001b[0;34m\u001b[0m\u001b[0;34m\u001b[0m\u001b[0m\n\u001b[1;32m    250\u001b[0m                     \u001b[0;32mcontinue\u001b[0m\u001b[0;34m\u001b[0m\u001b[0;34m\u001b[0m\u001b[0m\n",
            "\u001b[0;32m/usr/local/lib/python3.11/dist-packages/datasets/data_files.py\u001b[0m in \u001b[0;36mresolve_pattern\u001b[0;34m(pattern, base_path, allowed_extensions, download_config)\u001b[0m\n\u001b[1;32m    330\u001b[0m         \u001b[0mbase_path\u001b[0m \u001b[0;34m=\u001b[0m \u001b[0;34m\"\"\u001b[0m\u001b[0;34m\u001b[0m\u001b[0;34m\u001b[0m\u001b[0m\n\u001b[1;32m    331\u001b[0m     \u001b[0mpattern\u001b[0m\u001b[0;34m,\u001b[0m \u001b[0mstorage_options\u001b[0m \u001b[0;34m=\u001b[0m \u001b[0m_prepare_path_and_storage_options\u001b[0m\u001b[0;34m(\u001b[0m\u001b[0mpattern\u001b[0m\u001b[0;34m,\u001b[0m \u001b[0mdownload_config\u001b[0m\u001b[0;34m=\u001b[0m\u001b[0mdownload_config\u001b[0m\u001b[0;34m)\u001b[0m\u001b[0;34m\u001b[0m\u001b[0;34m\u001b[0m\u001b[0m\n\u001b[0;32m--> 332\u001b[0;31m     \u001b[0mfs\u001b[0m\u001b[0;34m,\u001b[0m \u001b[0m_\u001b[0m\u001b[0;34m,\u001b[0m \u001b[0m_\u001b[0m \u001b[0;34m=\u001b[0m \u001b[0mget_fs_token_paths\u001b[0m\u001b[0;34m(\u001b[0m\u001b[0mpattern\u001b[0m\u001b[0;34m,\u001b[0m \u001b[0mstorage_options\u001b[0m\u001b[0;34m=\u001b[0m\u001b[0mstorage_options\u001b[0m\u001b[0;34m)\u001b[0m\u001b[0;34m\u001b[0m\u001b[0;34m\u001b[0m\u001b[0m\n\u001b[0m\u001b[1;32m    333\u001b[0m     \u001b[0mfs_base_path\u001b[0m \u001b[0;34m=\u001b[0m \u001b[0mbase_path\u001b[0m\u001b[0;34m.\u001b[0m\u001b[0msplit\u001b[0m\u001b[0;34m(\u001b[0m\u001b[0;34m\"::\"\u001b[0m\u001b[0;34m)\u001b[0m\u001b[0;34m[\u001b[0m\u001b[0;36m0\u001b[0m\u001b[0;34m]\u001b[0m\u001b[0;34m.\u001b[0m\u001b[0msplit\u001b[0m\u001b[0;34m(\u001b[0m\u001b[0;34m\"://\"\u001b[0m\u001b[0;34m)\u001b[0m\u001b[0;34m[\u001b[0m\u001b[0;34m-\u001b[0m\u001b[0;36m1\u001b[0m\u001b[0;34m]\u001b[0m \u001b[0;32mor\u001b[0m \u001b[0mfs\u001b[0m\u001b[0;34m.\u001b[0m\u001b[0mroot_marker\u001b[0m\u001b[0;34m\u001b[0m\u001b[0;34m\u001b[0m\u001b[0m\n\u001b[1;32m    334\u001b[0m     \u001b[0mfs_pattern\u001b[0m \u001b[0;34m=\u001b[0m \u001b[0mpattern\u001b[0m\u001b[0;34m.\u001b[0m\u001b[0msplit\u001b[0m\u001b[0;34m(\u001b[0m\u001b[0;34m\"::\"\u001b[0m\u001b[0;34m)\u001b[0m\u001b[0;34m[\u001b[0m\u001b[0;36m0\u001b[0m\u001b[0;34m]\u001b[0m\u001b[0;34m.\u001b[0m\u001b[0msplit\u001b[0m\u001b[0;34m(\u001b[0m\u001b[0;34m\"://\"\u001b[0m\u001b[0;34m)\u001b[0m\u001b[0;34m[\u001b[0m\u001b[0;34m-\u001b[0m\u001b[0;36m1\u001b[0m\u001b[0;34m]\u001b[0m\u001b[0;34m\u001b[0m\u001b[0;34m\u001b[0m\u001b[0m\n",
            "\u001b[0;32m/usr/local/lib/python3.11/dist-packages/fsspec/core.py\u001b[0m in \u001b[0;36mget_fs_token_paths\u001b[0;34m(urlpath, mode, num, name_function, storage_options, protocol, expand)\u001b[0m\n\u001b[1;32m    684\u001b[0m             \u001b[0mpaths\u001b[0m \u001b[0;34m=\u001b[0m \u001b[0m_expand_paths\u001b[0m\u001b[0;34m(\u001b[0m\u001b[0mpaths\u001b[0m\u001b[0;34m,\u001b[0m \u001b[0mname_function\u001b[0m\u001b[0;34m,\u001b[0m \u001b[0mnum\u001b[0m\u001b[0;34m)\u001b[0m\u001b[0;34m\u001b[0m\u001b[0;34m\u001b[0m\u001b[0m\n\u001b[1;32m    685\u001b[0m         \u001b[0;32melif\u001b[0m \u001b[0;34m\"*\"\u001b[0m \u001b[0;32min\u001b[0m \u001b[0mpaths\u001b[0m\u001b[0;34m:\u001b[0m\u001b[0;34m\u001b[0m\u001b[0;34m\u001b[0m\u001b[0m\n\u001b[0;32m--> 686\u001b[0;31m             \u001b[0mpaths\u001b[0m \u001b[0;34m=\u001b[0m \u001b[0;34m[\u001b[0m\u001b[0mf\u001b[0m \u001b[0;32mfor\u001b[0m \u001b[0mf\u001b[0m \u001b[0;32min\u001b[0m \u001b[0msorted\u001b[0m\u001b[0;34m(\u001b[0m\u001b[0mfs\u001b[0m\u001b[0;34m.\u001b[0m\u001b[0mglob\u001b[0m\u001b[0;34m(\u001b[0m\u001b[0mpaths\u001b[0m\u001b[0;34m)\u001b[0m\u001b[0;34m)\u001b[0m \u001b[0;32mif\u001b[0m \u001b[0;32mnot\u001b[0m \u001b[0mfs\u001b[0m\u001b[0;34m.\u001b[0m\u001b[0misdir\u001b[0m\u001b[0;34m(\u001b[0m\u001b[0mf\u001b[0m\u001b[0;34m)\u001b[0m\u001b[0;34m]\u001b[0m\u001b[0;34m\u001b[0m\u001b[0;34m\u001b[0m\u001b[0m\n\u001b[0m\u001b[1;32m    687\u001b[0m         \u001b[0;32melse\u001b[0m\u001b[0;34m:\u001b[0m\u001b[0;34m\u001b[0m\u001b[0;34m\u001b[0m\u001b[0m\n\u001b[1;32m    688\u001b[0m             \u001b[0mpaths\u001b[0m \u001b[0;34m=\u001b[0m \u001b[0;34m[\u001b[0m\u001b[0mpaths\u001b[0m\u001b[0;34m]\u001b[0m\u001b[0;34m\u001b[0m\u001b[0;34m\u001b[0m\u001b[0m\n",
            "\u001b[0;32m/usr/local/lib/python3.11/dist-packages/huggingface_hub/hf_file_system.py\u001b[0m in \u001b[0;36mglob\u001b[0;34m(self, path, **kwargs)\u001b[0m\n\u001b[1;32m    519\u001b[0m         \u001b[0mkwargs\u001b[0m \u001b[0;34m=\u001b[0m \u001b[0;34m{\u001b[0m\u001b[0;34m\"expand_info\"\u001b[0m\u001b[0;34m:\u001b[0m \u001b[0mkwargs\u001b[0m\u001b[0;34m.\u001b[0m\u001b[0mget\u001b[0m\u001b[0;34m(\u001b[0m\u001b[0;34m\"detail\"\u001b[0m\u001b[0;34m,\u001b[0m \u001b[0;32mFalse\u001b[0m\u001b[0;34m)\u001b[0m\u001b[0;34m,\u001b[0m \u001b[0;34m**\u001b[0m\u001b[0mkwargs\u001b[0m\u001b[0;34m}\u001b[0m\u001b[0;34m\u001b[0m\u001b[0;34m\u001b[0m\u001b[0m\n\u001b[1;32m    520\u001b[0m         \u001b[0mpath\u001b[0m \u001b[0;34m=\u001b[0m \u001b[0mself\u001b[0m\u001b[0;34m.\u001b[0m\u001b[0mresolve_path\u001b[0m\u001b[0;34m(\u001b[0m\u001b[0mpath\u001b[0m\u001b[0;34m,\u001b[0m \u001b[0mrevision\u001b[0m\u001b[0;34m=\u001b[0m\u001b[0mkwargs\u001b[0m\u001b[0;34m.\u001b[0m\u001b[0mget\u001b[0m\u001b[0;34m(\u001b[0m\u001b[0;34m\"revision\"\u001b[0m\u001b[0;34m)\u001b[0m\u001b[0;34m)\u001b[0m\u001b[0;34m.\u001b[0m\u001b[0munresolve\u001b[0m\u001b[0;34m(\u001b[0m\u001b[0;34m)\u001b[0m\u001b[0;34m\u001b[0m\u001b[0;34m\u001b[0m\u001b[0m\n\u001b[0;32m--> 521\u001b[0;31m         \u001b[0;32mreturn\u001b[0m \u001b[0msuper\u001b[0m\u001b[0;34m(\u001b[0m\u001b[0;34m)\u001b[0m\u001b[0;34m.\u001b[0m\u001b[0mglob\u001b[0m\u001b[0;34m(\u001b[0m\u001b[0mpath\u001b[0m\u001b[0;34m,\u001b[0m \u001b[0;34m**\u001b[0m\u001b[0mkwargs\u001b[0m\u001b[0;34m)\u001b[0m\u001b[0;34m\u001b[0m\u001b[0;34m\u001b[0m\u001b[0m\n\u001b[0m\u001b[1;32m    522\u001b[0m \u001b[0;34m\u001b[0m\u001b[0m\n\u001b[1;32m    523\u001b[0m     def find(\n",
            "\u001b[0;32m/usr/local/lib/python3.11/dist-packages/fsspec/spec.py\u001b[0m in \u001b[0;36mglob\u001b[0;34m(self, path, maxdepth, **kwargs)\u001b[0m\n\u001b[1;32m    609\u001b[0m         \u001b[0mallpaths\u001b[0m \u001b[0;34m=\u001b[0m \u001b[0mself\u001b[0m\u001b[0;34m.\u001b[0m\u001b[0mfind\u001b[0m\u001b[0;34m(\u001b[0m\u001b[0mroot\u001b[0m\u001b[0;34m,\u001b[0m \u001b[0mmaxdepth\u001b[0m\u001b[0;34m=\u001b[0m\u001b[0mdepth\u001b[0m\u001b[0;34m,\u001b[0m \u001b[0mwithdirs\u001b[0m\u001b[0;34m=\u001b[0m\u001b[0;32mTrue\u001b[0m\u001b[0;34m,\u001b[0m \u001b[0mdetail\u001b[0m\u001b[0;34m=\u001b[0m\u001b[0;32mTrue\u001b[0m\u001b[0;34m,\u001b[0m \u001b[0;34m**\u001b[0m\u001b[0mkwargs\u001b[0m\u001b[0;34m)\u001b[0m\u001b[0;34m\u001b[0m\u001b[0;34m\u001b[0m\u001b[0m\n\u001b[1;32m    610\u001b[0m \u001b[0;34m\u001b[0m\u001b[0m\n\u001b[0;32m--> 611\u001b[0;31m         \u001b[0mpattern\u001b[0m \u001b[0;34m=\u001b[0m \u001b[0mglob_translate\u001b[0m\u001b[0;34m(\u001b[0m\u001b[0mpath\u001b[0m \u001b[0;34m+\u001b[0m \u001b[0;34m(\u001b[0m\u001b[0;34m\"/\"\u001b[0m \u001b[0;32mif\u001b[0m \u001b[0mends_with_sep\u001b[0m \u001b[0;32melse\u001b[0m \u001b[0;34m\"\"\u001b[0m\u001b[0;34m)\u001b[0m\u001b[0;34m)\u001b[0m\u001b[0;34m\u001b[0m\u001b[0;34m\u001b[0m\u001b[0m\n\u001b[0m\u001b[1;32m    612\u001b[0m         \u001b[0mpattern\u001b[0m \u001b[0;34m=\u001b[0m \u001b[0mre\u001b[0m\u001b[0;34m.\u001b[0m\u001b[0mcompile\u001b[0m\u001b[0;34m(\u001b[0m\u001b[0mpattern\u001b[0m\u001b[0;34m)\u001b[0m\u001b[0;34m\u001b[0m\u001b[0;34m\u001b[0m\u001b[0m\n\u001b[1;32m    613\u001b[0m \u001b[0;34m\u001b[0m\u001b[0m\n",
            "\u001b[0;32m/usr/local/lib/python3.11/dist-packages/fsspec/utils.py\u001b[0m in \u001b[0;36mglob_translate\u001b[0;34m(pat)\u001b[0m\n\u001b[1;32m    729\u001b[0m             \u001b[0;32mcontinue\u001b[0m\u001b[0;34m\u001b[0m\u001b[0;34m\u001b[0m\u001b[0m\n\u001b[1;32m    730\u001b[0m         \u001b[0;32melif\u001b[0m \u001b[0;34m\"**\"\u001b[0m \u001b[0;32min\u001b[0m \u001b[0mpart\u001b[0m\u001b[0;34m:\u001b[0m\u001b[0;34m\u001b[0m\u001b[0;34m\u001b[0m\u001b[0m\n\u001b[0;32m--> 731\u001b[0;31m             raise ValueError(\n\u001b[0m\u001b[1;32m    732\u001b[0m                 \u001b[0;34m\"Invalid pattern: '**' can only be an entire path component\"\u001b[0m\u001b[0;34m\u001b[0m\u001b[0;34m\u001b[0m\u001b[0m\n\u001b[1;32m    733\u001b[0m             )\n",
            "\u001b[0;31mValueError\u001b[0m: Invalid pattern: '**' can only be an entire path component"
          ]
        }
      ]
    },
    {
      "cell_type": "code",
      "source": [
        "train_ds"
      ],
      "metadata": {
        "id": "Darr3ZmE89oT"
      },
      "execution_count": null,
      "outputs": []
    },
    {
      "cell_type": "markdown",
      "source": [
        "We can also check out the features of the dataset in more detail:"
      ],
      "metadata": {
        "id": "wYMwno-p94Jt"
      }
    },
    {
      "cell_type": "code",
      "source": [
        "train_ds.features"
      ],
      "metadata": {
        "id": "ovkZ28jr962B"
      },
      "execution_count": null,
      "outputs": []
    },
    {
      "cell_type": "markdown",
      "source": [
        "As we can see, each example has 2 features: 'img' (of type `Image`) and 'label' (of type `ClassLabel`). Let's check an example of the training dataset:"
      ],
      "metadata": {
        "id": "SE6nV0sQ0_5r"
      }
    },
    {
      "cell_type": "code",
      "source": [
        "train_ds[0]['img']"
      ],
      "metadata": {
        "id": "9F-pn9w81BvD"
      },
      "execution_count": null,
      "outputs": []
    },
    {
      "cell_type": "code",
      "source": [
        "train_ds[0]['label']"
      ],
      "metadata": {
        "id": "2AuAzXts1DZT"
      },
      "execution_count": null,
      "outputs": []
    },
    {
      "cell_type": "markdown",
      "source": [
        "Of course, we would like to know the actual class name, rather than the integer index. We can obtain that by creating a dictionary which maps between integer indices and actual class names (id2label):"
      ],
      "metadata": {
        "id": "0rMWku5V1RzR"
      }
    },
    {
      "cell_type": "code",
      "source": [
        "id2label = {id:label for id, label in enumerate(train_ds.features['label'].names)}\n",
        "label2id = {label:id for id,label in id2label.items()}\n",
        "id2label"
      ],
      "metadata": {
        "id": "xTB3SxLc1ZHV"
      },
      "execution_count": null,
      "outputs": []
    },
    {
      "cell_type": "code",
      "source": [
        "id2label[train_ds[0]['label']]"
      ],
      "metadata": {
        "id": "KXew6SGa1bYQ"
      },
      "execution_count": null,
      "outputs": []
    },
    {
      "cell_type": "markdown",
      "metadata": {
        "id": "ywJ0iarBhXpc"
      },
      "source": [
        "## Preprocessing the data\n",
        "\n",
        "We will now preprocess the data. The model requires 2 things: `pixel_values` and `labels`.\n",
        "\n",
        "We will perform data augmentaton **on-the-fly** using HuggingFace Datasets' `set_transform` method (docs can be found [here](https://huggingface.co/docs/datasets/package_reference/main_classes.html?highlight=set_transform#datasets.Dataset.set_transform)). This method is kind of a lazy `map`: the transform is only applied when examples are accessed. This is convenient for tokenizing or padding text, or augmenting images at training time for example, as we will do here.\n",
        "\n",
        "We first load the image processor, which is a minimal object that can be used to prepare images for inference. We use some of its properties which are relevant for preparing images for the model."
      ]
    },
    {
      "cell_type": "code",
      "source": [
        "from transformers import ViTImageProcessor\n",
        "\n",
        "processor = ViTImageProcessor.from_pretrained(\"google/vit-base-patch16-224-in21k\")\n",
        "image_mean = processor.image_mean\n",
        "image_std = processor.image_std\n",
        "size = processor.size[\"height\"]"
      ],
      "metadata": {
        "id": "Ik1n1OArMTk4"
      },
      "execution_count": null,
      "outputs": []
    },
    {
      "cell_type": "markdown",
      "source": [
        "For data augmentation, one can use any available library. Here we'll use torchvision's [transforms module](https://pytorch.org/vision/stable/transforms.html)."
      ],
      "metadata": {
        "id": "SRWoWAgYzZAe"
      }
    },
    {
      "cell_type": "code",
      "metadata": {
        "id": "M8fcwD0OxEHP"
      },
      "source": [
        "from torchvision.transforms import (CenterCrop,\n",
        "                                    Compose,\n",
        "                                    Normalize,\n",
        "                                    RandomHorizontalFlip,\n",
        "                                    RandomResizedCrop,\n",
        "                                    Resize,\n",
        "                                    ToTensor)\n",
        "\n",
        "normalize = Normalize(mean=image_mean, std=image_std)\n",
        "_train_transforms = Compose(\n",
        "        [\n",
        "            RandomResizedCrop(size),\n",
        "            RandomHorizontalFlip(),\n",
        "            ToTensor(),\n",
        "            normalize,\n",
        "        ]\n",
        "    )\n",
        "\n",
        "_val_transforms = Compose(\n",
        "        [\n",
        "            Resize(size),\n",
        "            CenterCrop(size),\n",
        "            ToTensor(),\n",
        "            normalize,\n",
        "        ]\n",
        "    )\n",
        "\n",
        "def train_transforms(examples):\n",
        "    examples['pixel_values'] = [_train_transforms(image.convert(\"RGB\")) for image in examples['img']]\n",
        "    return examples\n",
        "\n",
        "def val_transforms(examples):\n",
        "    examples['pixel_values'] = [_val_transforms(image.convert(\"RGB\")) for image in examples['img']]\n",
        "    return examples"
      ],
      "execution_count": null,
      "outputs": []
    },
    {
      "cell_type": "code",
      "source": [
        "# Set the transforms\n",
        "train_ds.set_transform(train_transforms)\n",
        "val_ds.set_transform(val_transforms)\n",
        "test_ds.set_transform(val_transforms)"
      ],
      "metadata": {
        "id": "ZzI3qxf6NHkm"
      },
      "execution_count": null,
      "outputs": []
    },
    {
      "cell_type": "markdown",
      "source": [
        "We can now load preprocessed images (on-the-fly) as follows:"
      ],
      "metadata": {
        "id": "7iENyxYMzl4a"
      }
    },
    {
      "cell_type": "code",
      "source": [
        "train_ds[:2]"
      ],
      "metadata": {
        "id": "NOqUVXdPkDET"
      },
      "execution_count": null,
      "outputs": []
    },
    {
      "cell_type": "markdown",
      "source": [
        "It's very easy to create corresponding PyTorch DataLoaders, like so:"
      ],
      "metadata": {
        "id": "gNnLHRNbzsWU"
      }
    },
    {
      "cell_type": "code",
      "source": [
        "from torch.utils.data import DataLoader\n",
        "import torch\n",
        "\n",
        "def collate_fn(examples):\n",
        "    pixel_values = torch.stack([example[\"pixel_values\"] for example in examples])\n",
        "    labels = torch.tensor([example[\"label\"] for example in examples])\n",
        "    return {\"pixel_values\": pixel_values, \"labels\": labels}\n",
        "\n",
        "train_batch_size = 2\n",
        "eval_batch_size = 2\n",
        "\n",
        "train_dataloader = DataLoader(train_ds, shuffle=True, collate_fn=collate_fn, batch_size=train_batch_size)\n",
        "val_dataloader = DataLoader(val_ds, collate_fn=collate_fn, batch_size=eval_batch_size)\n",
        "test_dataloader = DataLoader(test_ds, collate_fn=collate_fn, batch_size=eval_batch_size)"
      ],
      "metadata": {
        "id": "hMOC0oBnhjRM"
      },
      "execution_count": null,
      "outputs": []
    },
    {
      "cell_type": "code",
      "source": [
        "batch = next(iter(train_dataloader))\n",
        "for k,v in batch.items():\n",
        "  if isinstance(v, torch.Tensor):\n",
        "    print(k, v.shape)"
      ],
      "metadata": {
        "id": "fZpqx7giniv8"
      },
      "execution_count": null,
      "outputs": []
    },
    {
      "cell_type": "code",
      "metadata": {
        "id": "NxROptl3Ifch"
      },
      "source": [
        "assert batch['pixel_values'].shape == (train_batch_size, 3, 224, 224)\n",
        "assert batch['labels'].shape == (train_batch_size,)"
      ],
      "execution_count": null,
      "outputs": []
    },
    {
      "cell_type": "code",
      "metadata": {
        "id": "yLCEbNfcbhk6"
      },
      "source": [
        "next(iter(val_dataloader))['pixel_values'].shape"
      ],
      "execution_count": null,
      "outputs": []
    },
    {
      "cell_type": "markdown",
      "metadata": {
        "id": "JDefWdsUxEsK"
      },
      "source": [
        "## Define the model\n",
        "\n",
        "Here we define a `LightningModule`, which is very similar to a regular `nn.Module`, but with some additional functionalities.\n",
        "\n",
        "The model itself uses a linear layer on top of a pre-trained `ViTModel`. We place a linear layer on top of the last hidden state of the [CLS] token, which serves as a good representation of an entire image. We also add dropout for regularization.\n",
        "\n",
        "A resource that helped me in understanding PyTorch Lightning is the [documentation](https://pytorch-lightning.readthedocs.io/en/latest/index.html) as well as the [tutorial notebooks](https://github.com/PyTorchLightning/pytorch-lightning/tree/master/notebooks)."
      ]
    },
    {
      "cell_type": "code",
      "metadata": {
        "id": "w40w7H_kJSRq"
      },
      "source": [
        "import pytorch_lightning as pl\n",
        "from transformers import ViTForImageClassification, AdamW\n",
        "import torch.nn as nn\n",
        "\n",
        "class ViTLightningModule(pl.LightningModule):\n",
        "    def __init__(self, num_labels=10):\n",
        "        super(ViTLightningModule, self).__init__()\n",
        "        self.vit = ViTForImageClassification.from_pretrained('google/vit-base-patch16-224-in21k',\n",
        "                                                              num_labels=10,\n",
        "                                                              id2label=id2label,\n",
        "                                                              label2id=label2id)\n",
        "\n",
        "    def forward(self, pixel_values):\n",
        "        outputs = self.vit(pixel_values=pixel_values)\n",
        "        return outputs.logits\n",
        "\n",
        "    def common_step(self, batch, batch_idx):\n",
        "        pixel_values = batch['pixel_values']\n",
        "        labels = batch['labels']\n",
        "        logits = self(pixel_values)\n",
        "\n",
        "        criterion = nn.CrossEntropyLoss()\n",
        "        loss = criterion(logits, labels)\n",
        "        predictions = logits.argmax(-1)\n",
        "        correct = (predictions == labels).sum().item()\n",
        "        accuracy = correct/pixel_values.shape[0]\n",
        "\n",
        "        return loss, accuracy\n",
        "\n",
        "    def training_step(self, batch, batch_idx):\n",
        "        loss, accuracy = self.common_step(batch, batch_idx)\n",
        "        # logs metrics for each training_step,\n",
        "        # and the average across the epoch\n",
        "        self.log(\"training_loss\", loss)\n",
        "        self.log(\"training_accuracy\", accuracy)\n",
        "\n",
        "        return loss\n",
        "\n",
        "    def validation_step(self, batch, batch_idx):\n",
        "        loss, accuracy = self.common_step(batch, batch_idx)\n",
        "        self.log(\"validation_loss\", loss, on_epoch=True)\n",
        "        self.log(\"validation_accuracy\", accuracy, on_epoch=True)\n",
        "\n",
        "        return loss\n",
        "\n",
        "    def test_step(self, batch, batch_idx):\n",
        "        loss, accuracy = self.common_step(batch, batch_idx)\n",
        "\n",
        "        return loss\n",
        "\n",
        "    def configure_optimizers(self):\n",
        "        # We could make the optimizer more fancy by adding a scheduler and specifying which parameters do\n",
        "        # not require weight_decay but just using AdamW out-of-the-box works fine\n",
        "        return AdamW(self.parameters(), lr=5e-5)\n",
        "\n",
        "    def train_dataloader(self):\n",
        "        return train_dataloader\n",
        "\n",
        "    def val_dataloader(self):\n",
        "        return val_dataloader\n",
        "\n",
        "    def test_dataloader(self):\n",
        "        return test_dataloader"
      ],
      "execution_count": null,
      "outputs": []
    },
    {
      "cell_type": "markdown",
      "metadata": {
        "id": "_SMVJjvmhuSB"
      },
      "source": [
        "## Train the model\n",
        "\n",
        "Let's first start up Tensorboard (note that PyTorch Lightning logs to Tensorboard by default):"
      ]
    },
    {
      "cell_type": "code",
      "metadata": {
        "id": "ZbCIJ8HgeSZc"
      },
      "source": [
        "# Start tensorboard.\n",
        "%load_ext tensorboard\n",
        "%tensorboard --logdir lightning_logs/"
      ],
      "execution_count": null,
      "outputs": []
    },
    {
      "cell_type": "markdown",
      "metadata": {
        "id": "86Hq_62HgKN7"
      },
      "source": [
        "Let's initialize the model, and train it!\n",
        "\n",
        "We also add a callback:\n",
        "* early stopping (stop training once the validation loss stops improving after 3 times)."
      ]
    },
    {
      "cell_type": "code",
      "metadata": {
        "id": "VV8_9IjhKiDh"
      },
      "source": [
        "from pytorch_lightning import Trainer\n",
        "from pytorch_lightning.callbacks import EarlyStopping\n",
        "\n",
        "# for early stopping, see https://pytorch-lightning.readthedocs.io/en/1.0.0/early_stopping.html?highlight=early%20stopping\n",
        "early_stop_callback = EarlyStopping(\n",
        "    monitor='val_loss',\n",
        "    patience=3,\n",
        "    strict=False,\n",
        "    verbose=False,\n",
        "    mode='min'\n",
        ")\n",
        "\n",
        "model = ViTLightningModule()\n",
        "trainer = Trainer(gpus=1, callbacks=[EarlyStopping(monitor='validation_loss')])\n",
        "trainer.fit(model)"
      ],
      "execution_count": null,
      "outputs": []
    },
    {
      "cell_type": "markdown",
      "metadata": {
        "id": "R6phzooHoK2c"
      },
      "source": [
        "Finally, let's test the trained model on the test set:"
      ]
    },
    {
      "cell_type": "code",
      "metadata": {
        "id": "FmmosX_xoAPx"
      },
      "source": [
        "trainer.test()"
      ],
      "execution_count": null,
      "outputs": []
    },
    {
      "cell_type": "code",
      "metadata": {
        "id": "xjoneN5EK7Ol"
      },
      "source": [],
      "execution_count": null,
      "outputs": []
    }
  ]
}